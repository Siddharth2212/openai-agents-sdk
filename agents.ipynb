{
 "cells": [
  {
   "cell_type": "markdown",
   "metadata": {},
   "source": [
    "### Agents\n",
    "Agents in essence are LLMs that accomplish a specific task. They can be supplemented with tools, structured output, and handoff to other agents."
   ]
  },
  {
   "cell_type": "code",
   "execution_count": 1,
   "metadata": {},
   "outputs": [
    {
     "name": "stdout",
     "output_type": "stream",
     "text": [
      "\u001b[33m  WARNING: The script tqdm is installed in '/Users/apple/Library/Python/3.9/bin' which is not on PATH.\n",
      "  Consider adding this directory to PATH or, if you prefer to suppress this warning, use --no-warn-script-location.\u001b[0m\n",
      "\u001b[33m  WARNING: The script httpx is installed in '/Users/apple/Library/Python/3.9/bin' which is not on PATH.\n",
      "  Consider adding this directory to PATH or, if you prefer to suppress this warning, use --no-warn-script-location.\u001b[0m\n",
      "\u001b[33m  WARNING: The script distro is installed in '/Users/apple/Library/Python/3.9/bin' which is not on PATH.\n",
      "  Consider adding this directory to PATH or, if you prefer to suppress this warning, use --no-warn-script-location.\u001b[0m\n",
      "\u001b[33m  WARNING: The script normalizer is installed in '/Users/apple/Library/Python/3.9/bin' which is not on PATH.\n",
      "  Consider adding this directory to PATH or, if you prefer to suppress this warning, use --no-warn-script-location.\u001b[0m\n",
      "\u001b[33m  WARNING: The script openai is installed in '/Users/apple/Library/Python/3.9/bin' which is not on PATH.\n",
      "  Consider adding this directory to PATH or, if you prefer to suppress this warning, use --no-warn-script-location.\u001b[0m\n",
      "\u001b[33m  WARNING: The script griffe is installed in '/Users/apple/Library/Python/3.9/bin' which is not on PATH.\n",
      "  Consider adding this directory to PATH or, if you prefer to suppress this warning, use --no-warn-script-location.\u001b[0m\n",
      "\u001b[33m  WARNING: The script dotenv is installed in '/Users/apple/Library/Python/3.9/bin' which is not on PATH.\n",
      "  Consider adding this directory to PATH or, if you prefer to suppress this warning, use --no-warn-script-location.\u001b[0m\n",
      "\u001b[33mWARNING: You are using pip version 21.2.4; however, version 25.2 is available.\n",
      "You should consider upgrading via the '/Library/Developer/CommandLineTools/usr/bin/python3 -m pip install --upgrade pip' command.\u001b[0m\n",
      "Note: you may need to restart the kernel to use updated packages.\n"
     ]
    }
   ],
   "source": [
    "%pip install openai-agents python-dotenv -qU"
   ]
  },
  {
   "cell_type": "code",
   "execution_count": 9,
   "metadata": {},
   "outputs": [
    {
     "name": "stdout",
     "output_type": "stream",
     "text": [
      "\u001b[33mWARNING: You are using pip version 21.2.4; however, version 25.2 is available.\n",
      "You should consider upgrading via the '/Library/Developer/CommandLineTools/usr/bin/python3 -m pip install --upgrade pip' command.\u001b[0m\n",
      "Note: you may need to restart the kernel to use updated packages.\n"
     ]
    }
   ],
   "source": [
    "%pip install eval_type_backport -qU"
   ]
  },
  {
   "cell_type": "code",
   "execution_count": 10,
   "metadata": {},
   "outputs": [],
   "source": [
    "from dotenv import load_dotenv\n",
    "import os\n",
    "\n",
    "# loads the .env file (if you have a global environment variable, you can skip this)\n",
    "load_dotenv()\n",
    "\n",
    "api_key = os.environ.get(\"OPENAI_API_KEY\")\n",
    "\n",
    "if not api_key:\n",
    "    raise ValueError(\"OPENAI_API_KEY is not set in the environment variables\")"
   ]
  },
  {
   "cell_type": "code",
   "execution_count": 11,
   "metadata": {},
   "outputs": [
    {
     "data": {
      "text/plain": [
       "\"HELLO! I'M DOING GREAT, THANK YOU! HOW ABOUT YOU?\""
      ]
     },
     "execution_count": 11,
     "metadata": {},
     "output_type": "execute_result"
    }
   ],
   "source": [
    "from agents import Agent, Runner\n",
    "\n",
    "agent = Agent(\n",
    "    name=\"Basic Agent\",\n",
    "    instructions=\"You are a helpful assistant. Respond on in all caps.\",\n",
    "    model=\"gpt-4o-mini\"\n",
    ")\n",
    "\n",
    "result = await Runner.run(agent, \"Hello! How are you?\")\n",
    "result.final_output"
   ]
  },
  {
   "cell_type": "code",
   "execution_count": 12,
   "metadata": {},
   "outputs": [
    {
     "data": {
      "text/plain": [
       "'Why did the road join the gym?\\n\\nBecause it wanted to get less asphalt!'"
      ]
     },
     "execution_count": 12,
     "metadata": {},
     "output_type": "execute_result"
    }
   ],
   "source": [
    "joke_agent = Agent(\n",
    "    name=\"Joke Agent\",\n",
    "    instructions=\"You are a joke teller. You are given a topic and you need to tell a joke about it.\",\n",
    ")\n",
    "\n",
    "topic = \"Roads\"\n",
    "result = await Runner.run(joke_agent, topic)\n",
    "result.final_output"
   ]
  },
  {
   "cell_type": "code",
   "execution_count": 13,
   "metadata": {},
   "outputs": [
    {
     "name": "stdout",
     "output_type": "stream",
     "text": [
      "Original joke:\n",
      "Why did the road get so stressed out?\n",
      "\n",
      "Because it had too many crossroads in life!\n",
      "\n",
      "Translated joke:\n",
      "¿Por qué la carretera estaba tan estresada?\n",
      "\n",
      "¡Porque tenía demasiados cruces en la vida!\n"
     ]
    }
   ],
   "source": [
    "language_agent = Agent(\n",
    "    name=\"Language Agent\",\n",
    "    instructions=\"You are a language expert. You are given a joke and you need to rewrite it in a different language.\",\n",
    ")\n",
    "\n",
    "joke_result = await Runner.run(joke_agent, topic)\n",
    "translated_result = await Runner.run(language_agent, f\"Translate this joke to Spanish: {joke_result.final_output}\")\n",
    "print(f\"Original joke:\\n{joke_result.final_output}\\n\")\n",
    "print(f\"Translated joke:\\n{translated_result.final_output}\")"
   ]
  },
  {
   "cell_type": "markdown",
   "metadata": {},
   "source": [
    "### Structured Outputs\n",
    "Structured outputs are a way to format the output of an LLM in a structured manner. This can be useful for tasks that require specific formatting or data extraction."
   ]
  },
  {
   "cell_type": "code",
   "execution_count": 15,
   "metadata": {},
   "outputs": [
    {
     "name": "stdout",
     "output_type": "stream",
     "text": [
      "title='Dal Chawal' ingredients=['1 cup toor dal (split pigeon peas)', '1 cup basmati rice', '2 tablespoons ghee or oil', '1 medium onion, chopped', '2 medium tomatoes, chopped', '2 green chilies, slit (optional)', '1 teaspoon cumin seeds', '1 teaspoon turmeric powder', '1 teaspoon red chili powder', '1 teaspoon coriander powder', 'Salt to taste', '3 cups water (for dal)', '2.5 cups water (for rice)', 'Fresh cilantro, chopped (for garnish)', 'Lemon wedges (optional)'] cooking_time=40 servings=4\n"
     ]
    }
   ],
   "source": [
    "from pydantic import BaseModel\n",
    "from agents import Agent\n",
    "\n",
    "class Recipe(BaseModel):\n",
    "    title: str\n",
    "    ingredients: list[str]\n",
    "    cooking_time: int # in minutes\n",
    "    servings: int\n",
    "\n",
    "recipe_agent = Agent(\n",
    "    name=\"Recipe Agent\", \n",
    "    instructions=(\"You are an agent for creating recipes. You will be given the name of a food and your job\"\n",
    "                  \" is to output that as an actual detailed recipe. The cooking time should be in minutes.\"),\n",
    "    output_type=Recipe\n",
    ")\n",
    "\n",
    "response = await Runner.run(recipe_agent, \"Dal chawal\")\n",
    "recipe = response.final_output\n",
    "print(recipe)"
   ]
  },
  {
   "cell_type": "markdown",
   "metadata": {},
   "source": [
    "### Tool Calling\n",
    "Tool calling is a way to extend the capabilities of an LLM by allowing it to call external tools or APIs. This can be useful for tasks that require access to external data or services."
   ]
  },
  {
   "cell_type": "code",
   "execution_count": 18,
   "metadata": {},
   "outputs": [
    {
     "name": "stdout",
     "output_type": "stream",
     "text": [
      "Getting weather for Dallas\n",
      "Getting temperature for Dallas\n"
     ]
    },
    {
     "data": {
      "text/plain": [
       "'The weather in Dallas is sunny, with a temperature of 70 degrees.'"
      ]
     },
     "execution_count": 18,
     "metadata": {},
     "output_type": "execute_result"
    }
   ],
   "source": [
    "from agents import Agent, function_tool\n",
    "\n",
    "@function_tool\n",
    "def get_weather(city: str) -> str:\n",
    "    print(f\"Getting weather for {city}\")\n",
    "    return \"sunny\"\n",
    "\n",
    "@function_tool\n",
    "def get_temperature(city: str) -> str:\n",
    "    print(f\"Getting temperature for {city}\")\n",
    "    return \"70 degrees\"\n",
    "\n",
    "agent = Agent(\n",
    "    name=\"Weather Agent\",\n",
    "    instructions=\"You are the local weather agent. You are given a city and you need to tell the weather and temperature. For any unrelated queries, say I cant help with that.\",\n",
    "    tools=[get_weather, get_temperature]\n",
    ")\n",
    "\n",
    "result = await Runner.run(agent, \"Dallas\")\n",
    "result.final_output"
   ]
  },
  {
   "cell_type": "code",
   "execution_count": null,
   "metadata": {},
   "outputs": [
    {
     "name": "stdout",
     "output_type": "stream",
     "text": [
      "title='Latest U.S. Politics News – September 18, 2025' date='September 18, 2025' description='**Here are the most recent developments in U.S. politics as of September 18, 2025:**\\n\\n**1. Stopgap Funding Battle Intensifies**\\nThe Republican-led U.S. House has advanced a “clean” stopgap funding bill, extending government funding through November 21. This proposal includes $88 million in enhanced security for lawmakers, judges, and Supreme Court justices—$30 million each for the congressional and executive branches and $28 million for justices’ protection ([reuters.com](https://www.reuters.com/world/us/us-house-advances-stopgap-bill-avert-government-shutdown-2025-09-17/?utm_source=openai)). In response, Senate Democratic Leader Chuck Schumer and other Democrats introduced an alternative bill extending funding only through October 31. Their plan includes healthcare provisions—such as reinstating Medicaid funding cuts, extending Affordable Care Act subsidies, restoring $491 million to public broadcasting, and adding an inspector general for the Office of Management and Budget ([reuters.com](https://www.reuters.com/world/us/us-congress-democrats-include-healthcare-initiative-their-stopgap-funding-2025-09-17/?utm_source=openai)). The partisan standoff remains unresolved ahead of the September 30 shutdown deadline.\\n\\n**2. Trump Begins Historic UK State Visit Amid Domestic Controversies**\\nPresident Trump has commenced a second state visit to the United Kingdom, spanning September 16–18, including a formal reception and banquet at Windsor Castle with King Charles III ([abcnews.go.com](https://abcnews.go.com/Politics/trump-begin-historic-uk-state-visit-royal-reception/story?id=125651147&utm_source=openai)). The visit has featured royal pageantry and emphasize strengthening U.S.-U.K. relations, with appearances from tech leaders such as Tim Cook and Sam Altman ([apnews.com](https://apnews.com/article/c02883df588c4783778f0dbb5894de1d?utm_source=openai)).\\n\\nDomestically, the visit coincides with heightened scrutiny over vaccine policy. Fired CDC Director Susan Monarez testified before the Senate, alleging that Health Secretary Robert F. Kennedy Jr. pressured her to endorse vaccine guidelines without proper scientific validation ([apnews.com](https://apnews.com/article/c02883df588c4783778f0dbb5894de1d?utm_source=openai)).\\n\\n**3. Free Speech Debate and Fallout from Charlie Kirk’s Killing**\\nThe indefinite suspension of *Jimmy Kimmel Live!* following the host’s remarks about the killing of conservative activist Charlie Kirk has ignited public debate over cancel culture and free speech ([independent.co.uk](https://www.independent.co.uk/news/world/americas/us-politics/jimmy-kimmel-charlie-kirk-comments-tyler-robinson-live-updates-b2828777.html?utm_source=openai)). Charlie Kirk’s death—on September 10—has also triggered security responses. Congressional Republicans have proposed $88 million in security funding as part of the stopgap spending package ([theguardian.com](https://www.theguardian.com/us-news/2025/sep/17/house-republicans-security-lawmakers?utm_source=openai)). Former President Barack Obama warned that the country faces “an inflection point” amid rising political violence, following the killings of Kirk and Melissa Hortman ([theguardian.com](https://www.theguardian.com/us-news/2025/sep/17/obama-charlie-kirk-political-violence?utm_source=openai)).\\n\\n**4. U.S.-Venezuela Military Strikes and Regional Tensions**\\nIn early September, the U.S. conducted a military strike in the southern Caribbean targeting a vessel allegedly tied to Venezuelan drug cartels, resulting in 11 fatalities. A second strike on September 15 killed three more people, increasing international tensions and sparking concerns over legality under U.S. and international law ([en.wikipedia.org](https://en.wikipedia.org/wiki/2025_United_States_strikes_on_Venezuelan_boats?utm_source=openai)). The campaign, part of Trump’s broader anti-cartel strategy, has drawn condemnation from Venezuela and regional entities ([en.wikipedia.org](https://en.wikipedia.org/wiki/2025_U.S._military_campaign_against_cartels?utm_source=openai)).\\n\\n**Summary of Key Dates and Stakes**\\n- September 30: Deadline for current government funding; threat of a shutdown looms. Republicans and Democrats remain deadlocked over security vs. healthcare priorities.\\n- September 16–18: Trump’s second UK state visit; includes diplomatic pageantry and high-level engagements.\\n- September 10 & 15: U.S. military strikes on Venezuelan vessels; legal and diplomatic fallout.\\n- Ongoing: National conversation over free speech, political violence, and safety of public officials following Charlie Kirk’s death.\\n\\nLet me know if you’d like deeper analysis on any of these stories—such as international reactions to the cartels’ strikes, congressional negotiations, or UK diplomatic responses.'\n"
     ]
    }
   ],
   "source": [
    "from agents import WebSearchTool\n",
    "from pydantic import BaseModel\n",
    "\n",
    "class News(BaseModel):\n",
    "    title: str\n",
    "    date: str\n",
    "    description: str\n",
    "\n",
    "class NewsArticles(BaseModel):\n",
    "    articles: list[News]\n",
    "\n",
    "news_agent = Agent(\n",
    "    name=\"News Reporter\",\n",
    "    instructions=\"You are a news reporter. Your job is to find recent news articles on the internet about US politics.\",\n",
    "    tools=[WebSearchTool()],\n",
    "    output_type=News\n",
    ")\n",
    "\n",
    "result = await Runner.run(news_agent, \"find news\")\n",
    "print(result.final_output)"
   ]
  },
  {
   "cell_type": "code",
   "execution_count": null,
   "metadata": {},
   "outputs": [],
   "source": []
  }
 ],
 "metadata": {
  "kernelspec": {
   "display_name": "Python 3",
   "language": "python",
   "name": "python3"
  },
  "language_info": {
   "codemirror_mode": {
    "name": "ipython",
    "version": 3
   },
   "file_extension": ".py",
   "mimetype": "text/x-python",
   "name": "python",
   "nbconvert_exporter": "python",
   "pygments_lexer": "ipython3",
   "version": "3.9.6"
  }
 },
 "nbformat": 4,
 "nbformat_minor": 2
}
