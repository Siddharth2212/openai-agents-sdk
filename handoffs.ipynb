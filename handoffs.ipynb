{
 "cells": [
  {
   "cell_type": "markdown",
   "metadata": {},
   "source": [
    "### Handoffs\n",
    "A way for an agent to invoke another agent"
   ]
  },
  {
   "cell_type": "code",
   "execution_count": 1,
   "metadata": {},
   "outputs": [],
   "source": [
    "from dotenv import load_dotenv\n",
    "import os\n",
    "\n",
    "load_dotenv()\n",
    "\n",
    "api_key = os.environ.get(\"OPENAI_API_KEY\")\n",
    "if not api_key:\n",
    "    raise ValueError(\"OPENAI_API_KEY is not set in the environment variables\")"
   ]
  },
  {
   "cell_type": "code",
   "execution_count": 4,
   "metadata": {},
   "outputs": [
    {
     "name": "stdout",
     "output_type": "stream",
     "text": [
      "outline='Loops in JavaScript' tutorial=\"# Loops in JavaScript\\n\\n## 1. Introduction to Loops\\n\\nLoops let you run the same block of code multiple times. They are useful when you need to repeat a task, such as processing each item in a list, or counting numbers.\\n\\nFor example, if you want to print numbers from 1 to 5, using a loop is much more efficient than writing five separate `console.log` statements.\\n\\n## 2. The `for` Loop\\n\\nThe `for` loop is one of the most commonly used loop types in JavaScript. Its syntax is:\\n\\n```javascript\\nfor (initialization; condition; increment) {\\n  // code to run on each loop iteration\\n}\\n```\\n\\n### Example: Counting from 1 to 5\\n```javascript\\nfor (let i = 1; i <= 5; i++) {\\n  console.log(i);\\n}\\n// Output: 1 2 3 4 5\\n```\\n\\n### Using `for` with Arrays\\n```javascript\\nconst fruits = ['apple', 'banana', 'cherry'];\\nfor (let i = 0; i < fruits.length; i++) {\\n  console.log(fruits[i]);\\n}\\n// Output: apple banana cherry\\n```\\n\\n## 3. The `while` Loop\\n\\nA `while` loop repeats as long as a condition remains true.\\n\\n```javascript\\nwhile (condition) {\\n  // code block\\n}\\n```\\n\\n### Example: Simple Guessing Game\\n```javascript\\nlet correct = false;\\nlet count = 0;\\nwhile (!correct && count < 3) {\\n  // In practice, you'd use user input from prompt(), here we just simulate\\n  let guess = Math.floor(Math.random() * 10); // random number between 0 and 9\\n  console.log('Guess:', guess);\\n  correct = guess === 5;\\n  count++;\\n}\\n```\\n\\n### When to Use `while` vs `for`\\n- Use `for` when you know how many times you want to loop.\\n- Use `while` when the number of iterations isn't known up front.\\n\\n## 4. The `do...while` Loop\\n\\nThe `do...while` loop guarantees the code block runs at least once.\\n\\n```javascript\\ndo {\\n  // code block\\n} while (condition);\\n```\\n\\n### Example: Validating User Input\\n```javascript\\nlet input;\\ndo {\\n  input = Math.floor(Math.random() * 5); // Simulating user input\\n  console.log('Input was:', input);\\n} while (input !== 3); // repeat until input is 3\\n```\\n\\n## 5. Loop Control Statements\\n\\n### `break`\\n`break` exits the loop immediately.\\n```javascript\\nfor (let i = 0; i < 10; i++) {\\n  if (i === 4) break;\\n  console.log(i);\\n}\\n// Output: 0 1 2 3\\n```\\n\\n### `continue`\\n`continue` skips to the next iteration.\\n```javascript\\nfor (let i = 0; i < 5; i++) {\\n  if (i % 2 === 0) continue; // skip even numbers\\n  console.log(i);\\n}\\n// Output: 1 3\\n```\\n\\n### Example: Filtering Even Numbers\\n```javascript\\nconst numbers = [1, 2, 3, 4, 5, 6];\\nfor (let i = 0; i < numbers.length; i++) {\\n  if (numbers[i] % 2 !== 0) continue; // only process even numbers\\n  console.log(numbers[i]);\\n}\\n// Output: 2 4 6\\n```\\n\\n## 6. Iterating over Arrays\\n\\n### Using `for...of` (ES6)\\n```javascript\\nconst colors = ['red', 'green', 'blue'];\\nfor (const color of colors) {\\n  console.log(color);\\n}\\n// Output: red green blue\\n```\\n\\n### Using `forEach()`\\n```javascript\\ncolors.forEach(function(color) {\\n  console.log(color);\\n});\\n// Output: red green blue\\n```\\n\\n## 7. Iterating over Objects\\n\\n### Using `for...in`\\n```javascript\\nconst person = { name: 'Alice', age: 25, city: 'Paris' };\\nfor (const key in person) {\\n  console.log(key, person[key]);\\n}\\n// Output: name Alice  age 25  city Paris\\n```\\n\\n### Caveats and Best Practices\\n- `for...in` is for object properties, not array elements (may include unexpected inherited properties).\\n- For arrays, prefer `for`, `for...of`, or `forEach`.\\n\\n## 8. Common Pitfalls\\n\\n### Infinite Loops\\nA missing stop condition causes infinite looping:\\n```javascript\\n// Be careful: this will run forever!\\n// for (let i = 0; i < 10; ) {\\n//   console.log(i); // i is never updated!\\n// }\\n```\\n\\n### Modifying the Loop Variable\\nChanging the loop variable inside the loop can cause bugs:\\n```javascript\\nfor (let i = 0; i < 5; i++) {\\n  if (i === 2) i = 4;\\n  console.log(i);\\n}\\n// Output: 0 1 2 4\\n// Loop ends after i = 4 (which then becomes 5, ending the loop)\\n```\\n\\n## 9. Practical Examples\\n\\n### Summing Numbers\\n```javascript\\nlet sum = 0;\\nfor (let i = 1; i <= 10; i++) {\\n  sum += i;\\n}\\nconsole.log('Sum is', sum); // Output: Sum is 55\\n```\\n\\n### Searching an Array\\n```javascript\\nconst animals = ['cat', 'dog', 'elephant'];\\nlet found = false;\\nfor (const animal of animals) {\\n  if (animal === 'dog') {\\n    found = true;\\n    break;\\n  }\\n}\\nconsole.log('Found dog?', found); // Output: Found dog? true\\n```\\n\\n### Building a New Array Based on Condition\\n```javascript\\nconst nums = [1, 2, 3, 4, 5, 6];\\nconst evens = [];\\nfor (const num of nums) {\\n  if (num % 2 === 0) {\\n    evens.push(num);\\n  }\\n}\\nconsole.log(evens); // Output: [2, 4, 6]\\n```\\n\\n## 10. Conclusion\\n\\nJavaScript supports several types of loops: `for`, `while`, `do...while`, `for...of`, and `for...in`. Choose a loop based on the task and data structure:\\n- Use `for` or `for...of` for arrays.\\n- Use `for...in` for objects.\\n- Use `while` or `do...while` when the number of iterations isn't predetermined.\\n\\nLoops are powerful; use them wisely to efficiently handle repetitive tasks!\"\n"
     ]
    }
   ],
   "source": [
    "from agents import Agent, Runner\n",
    "from pydantic import BaseModel\n",
    "\n",
    "\n",
    "class Tutorial(BaseModel):\n",
    "    outline: str\n",
    "    tutorial: str\n",
    "\n",
    "\n",
    "\n",
    "tutorial_generator = Agent(\n",
    "    name=\"Tutorial Generator\",\n",
    "    handoff_description=\"Used for generating a tutorial based on an outline.\",\n",
    "    instructions=(\n",
    "        \"Given a programming topic and an outline, your job is to generate code snippets for each section of the outline.\"\n",
    "        \"Format the tutorial in Markdown using a mix of text for explanation and code snippets for examples.\"\n",
    "        \"Where it makes sense, include comments in the code snippets to further explain the code.\"\n",
    "    ),\n",
    "    output_type=Tutorial\n",
    ")\n",
    "\n",
    "outline_builder = Agent(\n",
    "    name=\"Outline Builder\",\n",
    "    instructions=(\n",
    "        \"Given a particular programming topic, your job is to help come up with a tutorial. You will do that by crafting an outline.\"\n",
    "        \"After making the outline, hand it to the tutorial generator agent.\"\n",
    "    ),\n",
    "    handoffs=[tutorial_generator]\n",
    ")\n",
    "\n",
    "tutorial_response = await Runner.run(outline_builder, \"Loops in Javascript\")\n",
    "print(tutorial_response.final_output)"
   ]
  },
  {
   "cell_type": "code",
   "execution_count": 2,
   "metadata": {},
   "outputs": [],
   "source": [
    "from agents import Agent, Runner, handoff, RunContextWrapper\n",
    "\n",
    "history_tutor_agent = Agent(\n",
    "    name=\"History Tutor\",\n",
    "    handoff_description=\"Specialist agent for historical questions\",\n",
    "    instructions=\"You provide assistance with historical queries. Explain important events and context clearly.\",\n",
    ")\n",
    "\n",
    "math_tutor_agent = Agent(\n",
    "    name=\"Math Tutor\",\n",
    "    handoff_description=\"Specialist agent for math questions\",\n",
    "    instructions=\"You provide assistance with math queries. Explain your reasoning at each step and include examples\"\n",
    ")\n",
    "\n",
    "def on_math_handoff(ctx: RunContextWrapper[None]):\n",
    "    print(\"Handing off to math tutor agent\")\n",
    "\n",
    "def on_history_handoff(ctx: RunContextWrapper[None]):\n",
    "    print(\"Handing off to history tutor agent\")\n",
    "\n",
    "# This agent has the capability to handoff to either the history or math tutor agent\n",
    "triage_agent = Agent(\n",
    "    name=\"Triage Agent\",\n",
    "    instructions=\"You determine which agent to use based on the user's homework question.\" +\n",
    "    \"If neither agent is relevant, provide a general response.\",\n",
    "    handoffs=[handoff(history_tutor_agent, on_handoff=on_history_handoff), \n",
    "              handoff(math_tutor_agent, on_handoff=on_math_handoff)]\n",
    ")"
   ]
  },
  {
   "cell_type": "code",
   "execution_count": 12,
   "metadata": {},
   "outputs": [
    {
     "name": "stdout",
     "output_type": "stream",
     "text": [
      "Handing off to math tutor agent\n"
     ]
    },
    {
     "data": {
      "text/plain": [
       "'Adding 2 and 2 is a basic arithmetic operation. Here’s how you do it:\\n\\n1. **Understand the Operation**: Addition is the process of combining two or more numbers to get a total or sum.\\n\\n2. **Line Up the Numbers**: Since these are single-digit numbers, you can simply align them:\\n   \\\\[\\n   2 \\\\\\\\\\n   + 2\\n   \\\\]\\n\\n3. **Add the Numbers**: Start from the right (though here we only have one column):\\n   \\\\[\\n   2 + 2 = 4\\n   \\\\]\\n\\n4. **Write Down the Sum**: The sum of 2 and 2 is 4.\\n\\n**Example**: If you have 2 apples and someone gives you 2 more apples, you count all the apples together to get 4 apples.\\n\\nThis method applies to all basic additions: align the numbers and add starting from the rightmost column.'"
      ]
     },
     "execution_count": 12,
     "metadata": {},
     "output_type": "execute_result"
    }
   ],
   "source": [
    "result = await Runner.run(triage_agent, \"How do I add 2 and 2?\")\n",
    "result.final_output"
   ]
  },
  {
   "cell_type": "code",
   "execution_count": 13,
   "metadata": {},
   "outputs": [
    {
     "name": "stdout",
     "output_type": "stream",
     "text": [
      "Handing off to history tutor agent\n"
     ]
    },
    {
     "data": {
      "text/plain": [
       "'World War II began on September 1, 1939, when Nazi Germany, led by Adolf Hitler, invaded Poland. This invasion prompted Britain and France to declare war on Germany two days later, on September 3, 1939.\\n\\n### Context Leading to the War:\\n\\n1. **Treaty of Versailles (1919):** After World War I, the Treaty of Versailles placed heavy reparations and territorial losses on Germany. This caused economic hardship and resentment among Germans.\\n\\n2. **Rise of Fascism:** During the 1920s and 1930s, fascist regimes emerged in several countries. Hitler\\'s rise to power in Germany in 1933 was a significant turning point, as he sought to overturn the post-World War I order and expand German territory.\\n\\n3. **Expansion and Appeasement:**\\n   - **Reoccupation of the Rhineland (1936):** Germany reoccupied this demilitarized zone, violating the Treaty of Versailles.\\n   - **Annexation of Austria (1938):** Known as the Anschluss, Austria was annexed into Germany.\\n   - **Munich Agreement (1938):** Britain and France allowed Germany to annex the Sudetenland, part of Czechoslovakia, in hopes of preventing further aggression.\\n\\n4. **Non-Aggression Pact (1939):** Germany and the Soviet Union signed the Molotov-Ribbentrop Pact, pledging not to attack each other. Secretly, they agreed to divide Eastern Europe between them.\\n\\n### Immediate Cause:\\n\\n- **Invasion of Poland:** Germany\\'s attack on Poland was swift, using a strategy known as \"Blitzkrieg\" or lightning war, characterized by fast-moving, coordinated strikes using aircraft, tanks, and troops. The Soviet Union invaded Poland from the east on September 17, 1939, effectively dividing the country.\\n\\nThese actions set off a series of events that escalated into a global conflict involving many nations, eventually drawing in countries such as the United States and the Soviet Union, and lasting until 1945.'"
      ]
     },
     "execution_count": 13,
     "metadata": {},
     "output_type": "execute_result"
    }
   ],
   "source": [
    "result = await Runner.run(triage_agent, \"How did WW2 start?\")\n",
    "result.final_output"
   ]
  },
  {
   "cell_type": "code",
   "execution_count": 15,
   "metadata": {},
   "outputs": [
    {
     "name": "stdout",
     "output_type": "stream",
     "text": [
      "Could you please specify which event or destination you are inquiring about for ticket prices?\n"
     ]
    }
   ],
   "source": [
    "from agents import function_tool\n",
    "\n",
    "class ManagerEscalation(BaseModel):\n",
    "    issue: str # the issue being escalated\n",
    "    why: str # why can you not handle it? Used for training in the future\n",
    "\n",
    "@function_tool\n",
    "def create_ticket(issue: str):\n",
    "    \"\"\"\"\n",
    "    Create a ticket in the system for an issue to be resolved.\n",
    "    \"\"\"\n",
    "    print(f\"Creating ticket for issue: {issue}\")\n",
    "    return \"Ticket created. ID: 12345\"\n",
    "    # In a real-world scenario, this would interact with a ticketing system\n",
    "\n",
    "manager_agent = Agent(\n",
    "    name=\"Manager\",\n",
    "    handoff_description=\"Handles escalated issues that require managerial attention\",\n",
    "    instructions=(\n",
    "        \"You handle escalated customer issues that the initial custom service agent could not resolve. \"\n",
    "        \"You will receive the issue and the reason for escalation. If the issue cannot be immediately resolved for the \"\n",
    "        \"customer, create a ticket in the system and inform the customer.\"\n",
    "    ),\n",
    "    tools=[create_ticket],\n",
    ")\n",
    "\n",
    "def on_manager_handoff(ctx: RunContextWrapper[None], input: ManagerEscalation):\n",
    "    print(\"Escalating to manager agent: \", input.issue)\n",
    "    print(\"Reason for escalation: \", input.why)\n",
    "\n",
    "    # here we might store the escalation in a database or log it for future reference\n",
    "\n",
    "customer_service_agent = Agent(\n",
    "    name=\"Customer Service\",\n",
    "    instructions=\"You assist customers with general inquiries and basic troubleshooting. \" +\n",
    "                 \"If the issue cannot be resolved, escalate it to the Manager along with the reason why you cannot fix the issue yourself.\",\n",
    "    handoffs=[handoff(\n",
    "        agent=manager_agent,\n",
    "        input_type=ManagerEscalation,\n",
    "        on_handoff=on_manager_handoff,\n",
    "    )]\n",
    ")\n",
    "\n",
    "result = await Runner.run(customer_service_agent, \"Hello how much are tickets?\")\n",
    "print(result.final_output)"
   ]
  },
  {
   "cell_type": "markdown",
   "metadata": {},
   "source": [
    "#### Recommended Prompt Prefix\n",
    "The recommended prompt prefix is a constant that OpenAI recommends you give to handoff agents to improve understanding."
   ]
  },
  {
   "cell_type": "code",
   "execution_count": null,
   "metadata": {},
   "outputs": [
    {
     "data": {
      "text/plain": [
       "'# System context\\nYou are part of a multi-agent system called the Agents SDK, designed to make agent coordination and execution easy. Agents uses two primary abstraction: **Agents** and **Handoffs**. An agent encompasses instructions and tools and can hand off a conversation to another agent when appropriate. Handoffs are achieved by calling a handoff function, generally named `transfer_to_<agent_name>`. Transfers between agents are handled seamlessly in the background; do not mention or draw attention to these transfers in your conversation with the user.\\n'"
      ]
     },
     "execution_count": 2,
     "metadata": {},
     "output_type": "execute_result"
    }
   ],
   "source": [
    "from agents.extensions.handoff_prompt import RECOMMENDED_PROMPT_PREFIX\n",
    "\n",
    "billing_agent = Agent(\n",
    "    name=\"Billing agent\",\n",
    "    instructions=f\"\"\"{RECOMMENDED_PROMPT_PREFIX}\n",
    "    <Fill in the rest of your prompt here>.\"\"\",\n",
    ")"
   ]
  }
 ],
 "metadata": {
  "kernelspec": {
   "display_name": "Python 3",
   "language": "python",
   "name": "python3"
  },
  "language_info": {
   "codemirror_mode": {
    "name": "ipython",
    "version": 3
   },
   "file_extension": ".py",
   "mimetype": "text/x-python",
   "name": "python",
   "nbconvert_exporter": "python",
   "pygments_lexer": "ipython3",
   "version": "3.9.6"
  }
 },
 "nbformat": 4,
 "nbformat_minor": 2
}
