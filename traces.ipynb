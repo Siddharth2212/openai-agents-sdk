{
 "cells": [
  {
   "cell_type": "code",
   "execution_count": 1,
   "metadata": {},
   "outputs": [],
   "source": [
    "from dotenv import load_dotenv\n",
    "import os\n",
    "\n",
    "# loads the .env file (if you have a global environment variable, you can skip this)\n",
    "load_dotenv()\n",
    "\n",
    "api_key = os.environ.get(\"OPENAI_API_KEY\")\n",
    "\n",
    "if not api_key:\n",
    "    raise ValueError(\"OPENAI_API_KEY is not set in the environment variables\")"
   ]
  },
  {
   "cell_type": "markdown",
   "metadata": {},
   "source": [
    "### Tracing\n",
    "A way to see what the agents are doing."
   ]
  },
  {
   "cell_type": "code",
   "execution_count": 2,
   "metadata": {},
   "outputs": [
    {
     "data": {
      "text/plain": [
       "'HELLO! I’M DOING GREAT, THANK YOU! HOW ABOUT YOU?'"
      ]
     },
     "execution_count": 2,
     "metadata": {},
     "output_type": "execute_result"
    }
   ],
   "source": [
    "from agents import Agent, Runner\n",
    "\n",
    "agent = Agent(\n",
    "    name=\"Basic Agent\",\n",
    "    instructions=\"You are a helpful assistant. Respond on in all caps.\",\n",
    "    model=\"gpt-4o-mini\"\n",
    ")\n",
    "\n",
    "# when doing a single run the tracing is automatically done\n",
    "result = await Runner.run(agent, \"Hello! How are you?\")\n",
    "result.final_output"
   ]
  },
  {
   "cell_type": "code",
   "execution_count": 3,
   "metadata": {},
   "outputs": [
    {
     "name": "stdout",
     "output_type": "stream",
     "text": [
      "Translated joke:\n",
      "¿Por qué la rueda de queso nunca escuchaba a nadie?\n",
      "\n",
      "¡Porque tenía mente propia—y siempre rallaba los nervios de todos!\n"
     ]
    }
   ],
   "source": [
    "from agents import trace\n",
    "\n",
    "joke_agent = Agent(\n",
    "    name=\"Joke Agent\",\n",
    "    instructions=\"You are a joke teller. You are given a topic and you need to tell a joke about it.\",\n",
    ")\n",
    "language_agent = Agent(\n",
    "    name=\"Language Agent\",\n",
    "    instructions=\"You are a language expert. You are given a joke and you need to rewrite it in a different language.\",\n",
    ")\n",
    "\n",
    "with trace(\"Joke Translation Workflow\"):\n",
    "    joke_result = await Runner.run(joke_agent, \"Cheese\")\n",
    "    translated_result = await Runner.run(language_agent, f\"Translate this joke to Spanish: {joke_result.final_output}\")\n",
    "    print(f\"Translated joke:\\n{translated_result.final_output}\")"
   ]
  },
  {
   "cell_type": "code",
   "execution_count": null,
   "metadata": {},
   "outputs": [
    {
     "name": "stdout",
     "output_type": "stream",
     "text": [
      "Escalating to manager agent:  Customer cannot see anything on the refund page (it's blank) even after clearing cache and trying a different browser. Unable to process refund request due to technical issue.\n",
      "Reason for escalation:  The issue appears to be a technical problem with the refund page itself, as basic troubleshooting steps have already been attempted by the customer. This requires attention from technical support or a manager to resolve or manually process the refund.\n",
      "Creating ticket for issue: Customer is unable to access the refund page for their order; the page loads blank even after clearing cache and trying a different browser. Requires technical investigation and assistance to process the refund manually if needed.\n",
      "Thank you for sharing the details of your issue and for already trying basic troubleshooting steps. Since the refund page is still blank despite your efforts, this appears to be a technical problem on our end.\n",
      "\n",
      "I've created a ticket for our technical team to investigate and assist with your refund. You will be contacted as soon as we have an update or a solution. Thank you for your patience while we resolve this for you. If you have any other questions or information about your order, please let me know!\n"
     ]
    }
   ],
   "source": [
    "from agents import function_tool, RunContextWrapper, handoff\n",
    "from pydantic import BaseModel\n",
    "\n",
    "class ManagerEscalation(BaseModel):\n",
    "    issue: str # the issue being escalated\n",
    "    why: str # why can you not handle it? Used for training in the future\n",
    "\n",
    "class Ticket(BaseModel):\n",
    "    description: str\n",
    "    ticketId: str\n",
    "\n",
    "@function_tool\n",
    "def create_ticket(issue: str):\n",
    "    \"\"\"\"\n",
    "    Create a ticket in the system for an issue to be resolved.\n",
    "    \"\"\"\n",
    "    print(f\"Creating ticket for issue: {issue}\")\n",
    "    return \"Ticket created. ID: 12345\"\n",
    "    # In a real-world scenario, this would interact with a ticketing system\n",
    "\n",
    "manager_agent = Agent(\n",
    "    name=\"Manager\",\n",
    "    handoff_description=\"Handles escalated issues that require managerial attention\",\n",
    "    instructions=(\n",
    "        \"You handle escalated customer issues that the initial custom service agent could not resolve. \"\n",
    "        \"You will receive the issue and the reason for escalation. If the issue cannot be immediately resolved for the \"\n",
    "        \"customer, create a ticket using the tool provided in the system and inform the customer.\"\n",
    "    ),\n",
    "    output_type=Ticket,\n",
    "    tools=[create_ticket],\n",
    ")\n",
    "\n",
    "def on_manager_handoff(ctx: RunContextWrapper[None], input: ManagerEscalation):\n",
    "    print(\"Escalating to manager agent: \", input.issue)\n",
    "    print(\"Reason for escalation: \", input.why)\n",
    "\n",
    "    # here we might store the escalation in a database or log it for future reference\n",
    "\n",
    "customer_service_agent = Agent(\n",
    "    name=\"Customer Service\",\n",
    "    instructions=\"You assist customers with general inquiries and basic troubleshooting. \" +\n",
    "                 \"If the issue cannot be resolved, escalate it to the Manager along with the reason why you cannot fix the issue yourself.\",\n",
    "    handoffs=[handoff(\n",
    "        agent=manager_agent,\n",
    "        input_type=ManagerEscalation,\n",
    "        on_handoff=on_manager_handoff,\n",
    "    )]\n",
    ")\n",
    "\n",
    "with trace(\"Customer Service Hotline\"):\n",
    "    result = await Runner.run(customer_service_agent, \"Hello im having an issue with refunding my order. The page is blank and I cannot see anything. I have tried clearing my cache and using a different browser. I am not sure what else to do.\")\n",
    "    print(result.final_output)"
   ]
  },
  {
   "cell_type": "code",
   "execution_count": null,
   "metadata": {},
   "outputs": [],
   "source": []
  }
 ],
 "metadata": {
  "kernelspec": {
   "display_name": "Python 3",
   "language": "python",
   "name": "python3"
  },
  "language_info": {
   "codemirror_mode": {
    "name": "ipython",
    "version": 3
   },
   "file_extension": ".py",
   "mimetype": "text/x-python",
   "name": "python",
   "nbconvert_exporter": "python",
   "pygments_lexer": "ipython3",
   "version": "3.9.6"
  }
 },
 "nbformat": 4,
 "nbformat_minor": 2
}
